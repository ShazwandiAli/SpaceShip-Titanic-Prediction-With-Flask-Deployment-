{
 "cells": [
  {
   "cell_type": "code",
   "execution_count": 1,
   "id": "047d93be-267e-45ed-b9a1-cce73db1da0e",
   "metadata": {},
   "outputs": [],
   "source": [
    "# Import the libraies\n",
    "import numpy as np\n",
    "from flask import Flask, request, render_template, redirect\n",
    "import joblib\n"
   ]
  },
  {
   "cell_type": "code",
   "execution_count": 2,
   "id": "7bc84c8f-2fe3-48cc-ae2b-886535c14ca1",
   "metadata": {},
   "outputs": [],
   "source": [
    "# Create the Flask app and load the trained model\n",
    "app = Flask(__name__)\n",
    "model = joblib.load('model.pkl')"
   ]
  },
  {
   "cell_type": "code",
   "execution_count": 3,
   "id": "30cb3b98-bbdb-4297-999d-3a1500e79e65",
   "metadata": {},
   "outputs": [],
   "source": [
    "# Define the '/' root route to display the content from index.html\n",
    "@app.route('/')\n",
    "def home():\n",
    "    return render_template('index.html')"
   ]
  },
  {
   "cell_type": "code",
   "execution_count": 4,
   "id": "ce7923cf-eb89-4d81-a288-cf69eca620d4",
   "metadata": {},
   "outputs": [],
   "source": [
    "# Define the '/predict' route to:\n",
    "# - Get form data and convert them to float values\n",
    "# - Convert form data to numpy array\n",
    "# - Pass form data to model for prediction\n",
    "\n",
    "@app.route('/predict',methods=['POST'])\n",
    "def predict():\n",
    "    \n",
    "    form_data = [int(x) for x in request.form.values()]\n",
    "    features = [np.array(form_data)]\n",
    "    print(features)\n",
    "    prediction = model.predict(features)\n",
    "    print(prediction[0])\n",
    "    redirect('prediction.html')\n",
    "    \n",
    "    if prediction == True:\n",
    "        return render_template('prediction.html', transported_prediction = \"Im sorry but you are in another dimension :(\")\n",
    "    else:\n",
    "        return render_template('prediction.html', transported_prediction = \"GREAT NEWS! You can go back to your family :)\")\n",
    "                               \n",
    "\t# Format prediction text for display in \"index.html\"\n",
    "    #return render_template('index.html', transported_prediction='Passenger transported? {}'.format(prediction[0]))\n"
   ]
  },
  {
   "cell_type": "code",
   "execution_count": null,
   "id": "dac3bfaf-2c82-470c-b9cc-c57033025792",
   "metadata": {},
   "outputs": [
    {
     "name": "stdout",
     "output_type": "stream",
     "text": [
      " * Serving Flask app \"__main__\" (lazy loading)\n",
      " * Environment: production\n",
      "\u001b[31m   WARNING: This is a development server. Do not use it in a production deployment.\u001b[0m\n",
      "\u001b[2m   Use a production WSGI server instead.\u001b[0m\n",
      " * Debug mode: off\n"
     ]
    },
    {
     "name": "stderr",
     "output_type": "stream",
     "text": [
      " * Running on http://127.0.0.1:5000/ (Press CTRL+C to quit)\n",
      "127.0.0.1 - - [22/Aug/2022 20:54:52] \"GET / HTTP/1.1\" 200 -\n",
      "127.0.0.1 - - [22/Aug/2022 20:54:52] \"GET /uploads/media/default/0001/01/a3df023f124a8bec3b213347404fe0a7318161de.jpeg HTTP/1.1\" 404 -\n",
      "127.0.0.1 - - [22/Aug/2022 20:54:52] \"GET /favicon.ico HTTP/1.1\" 404 -\n"
     ]
    }
   ],
   "source": [
    "if __name__ == '__main__':\n",
    "    app.run(debug=False)"
   ]
  },
  {
   "cell_type": "code",
   "execution_count": null,
   "id": "0bbc0e4f-ba81-444b-9159-8656e397514c",
   "metadata": {},
   "outputs": [],
   "source": []
  }
 ],
 "metadata": {
  "kernelspec": {
   "display_name": "Python 3 (ipykernel)",
   "language": "python",
   "name": "python3"
  },
  "language_info": {
   "codemirror_mode": {
    "name": "ipython",
    "version": 3
   },
   "file_extension": ".py",
   "mimetype": "text/x-python",
   "name": "python",
   "nbconvert_exporter": "python",
   "pygments_lexer": "ipython3",
   "version": "3.9.12"
  }
 },
 "nbformat": 4,
 "nbformat_minor": 5
}
